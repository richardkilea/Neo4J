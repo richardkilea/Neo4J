{
  "nbformat": 4,
  "nbformat_minor": 0,
  "metadata": {
    "colab": {
      "provenance": [],
      "authorship_tag": "ABX9TyPaaUHbEdll8hQ9/7qoXxNZ",
      "include_colab_link": true
    },
    "kernelspec": {
      "name": "python3",
      "display_name": "Python 3"
    },
    "language_info": {
      "name": "python"
    }
  },
  "cells": [
    {
      "cell_type": "markdown",
      "metadata": {
        "id": "view-in-github",
        "colab_type": "text"
      },
      "source": [
        "<a href=\"https://colab.research.google.com/github/richardkilea/Neo4J/blob/main/Knowledge_Graphs.ipynb\" target=\"_parent\"><img src=\"https://colab.research.google.com/assets/colab-badge.svg\" alt=\"Open In Colab\"/></a>"
      ]
    },
    {
      "cell_type": "markdown",
      "source": [
        "#This notebook shows how you can query a database"
      ],
      "metadata": {
        "id": "QmVI5CsC4IyZ"
      }
    },
    {
      "cell_type": "code",
      "source": [
        "from IPython.display import clear_output\n",
        "\n",
        "!pip install python-docx\n",
        "!pip install python-dotenv\n",
        "!pip install langchain\n",
        "!pip install langchainhub\n",
        "!pip install openai langchain-openai\n",
        "!pip install -U langchain-openai\n",
        "!pip install langchain_community\n",
        "!pip install neo4j"
      ],
      "metadata": {
        "id": "yn_c62Z-sS-K"
      },
      "execution_count": null,
      "outputs": []
    },
    {
      "cell_type": "code",
      "execution_count": 6,
      "metadata": {
        "id": "-h01aOIZsML_"
      },
      "outputs": [],
      "source": [
        "from dotenv import load_dotenv\n",
        "import os\n",
        "\n",
        "from langchain_community.graphs import Neo4jGraph\n",
        "\n",
        "# Warning control\n",
        "import warnings\n",
        "warnings.filterwarnings(\"ignore\")"
      ]
    },
    {
      "cell_type": "code",
      "source": [
        "load_dotenv('.env', override=True)\n",
        "NEO4J_URI = os.getenv('URI')\n",
        "NEO4J_USERNAME = os.getenv('neo4j')\n",
        "NEO4J_PASSWORD = os.getenv('PASSWORD')\n",
        "graph = Neo4jGraph()"
      ],
      "metadata": {
        "id": "a4XaOH0Jsgqe"
      },
      "execution_count": 9,
      "outputs": []
    },
    {
      "cell_type": "markdown",
      "source": [
        "Initialize a knowledge graph instance using LangChain's Neo4j integration"
      ],
      "metadata": {
        "id": "HF6cwJKosrPG"
      }
    },
    {
      "cell_type": "code",
      "source": [
        "kg = Neo4jGraph(\n",
        "    url=NEO4J_URI, username=NEO4J_USERNAME, password=NEO4J_PASSWORD)"
      ],
      "metadata": {
        "id": "vGpgxuEsssBa"
      },
      "execution_count": 10,
      "outputs": []
    },
    {
      "cell_type": "markdown",
      "source": [
        "#Querying the movie knowledge graph\n",
        "Match all nodes in the graph"
      ],
      "metadata": {
        "id": "qB3vkkMatPG9"
      }
    },
    {
      "cell_type": "code",
      "source": [
        "cypher = \"\"\"\n",
        "  MATCH (n)\n",
        "  RETURN count(n)\n",
        "  \"\"\""
      ],
      "metadata": {
        "id": "tgrww6mrtSNi"
      },
      "execution_count": 11,
      "outputs": []
    },
    {
      "cell_type": "code",
      "source": [
        "result = kg.query(cypher)\n",
        "result"
      ],
      "metadata": {
        "colab": {
          "base_uri": "https://localhost:8080/"
        },
        "id": "TwSAf91itvBz",
        "outputId": "df3a583a-56bb-4848-d33c-f7c621f29154"
      },
      "execution_count": 12,
      "outputs": [
        {
          "output_type": "execute_result",
          "data": {
            "text/plain": [
              "[{'count(n)': 171}]"
            ]
          },
          "metadata": {},
          "execution_count": 12
        }
      ]
    },
    {
      "cell_type": "code",
      "source": [
        "cypher = \"\"\"\n",
        "  MATCH (n)\n",
        "  RETURN count(n) AS numberOfNodes\n",
        "  \"\"\""
      ],
      "metadata": {
        "id": "vNR7Wj5StqhC"
      },
      "execution_count": 13,
      "outputs": []
    },
    {
      "cell_type": "code",
      "source": [
        "result = kg.query(cypher)\n",
        "result"
      ],
      "metadata": {
        "colab": {
          "base_uri": "https://localhost:8080/"
        },
        "id": "gIuxskxyt3KK",
        "outputId": "012fbb73-f52c-4d5e-dcd8-1e4c24e60a21"
      },
      "execution_count": 14,
      "outputs": [
        {
          "output_type": "execute_result",
          "data": {
            "text/plain": [
              "[{'numberOfNodes': 171}]"
            ]
          },
          "metadata": {},
          "execution_count": 14
        }
      ]
    },
    {
      "cell_type": "code",
      "source": [
        "print(f\"There are {result[0]['numberOfNodes']} nodes in this graph.\")"
      ],
      "metadata": {
        "colab": {
          "base_uri": "https://localhost:8080/"
        },
        "id": "XgnHSRAVt4BD",
        "outputId": "11ceec0c-00b8-478a-9d32-4edc8897acb5"
      },
      "execution_count": 15,
      "outputs": [
        {
          "output_type": "stream",
          "name": "stdout",
          "text": [
            "There are 171 nodes in this graph.\n"
          ]
        }
      ]
    },
    {
      "cell_type": "markdown",
      "source": [
        "Match only the Movie nodes by specifying the node label"
      ],
      "metadata": {
        "id": "FIk-Qw8rt-dr"
      }
    },
    {
      "cell_type": "code",
      "source": [
        "cypher = \"\"\"\n",
        "  MATCH (n:Movie)\n",
        "  RETURN count(n) AS numberOfMovies\n",
        "  \"\"\"\n",
        "kg.query(cypher)"
      ],
      "metadata": {
        "colab": {
          "base_uri": "https://localhost:8080/"
        },
        "id": "PDyShB7Ft7lz",
        "outputId": "638007e8-e780-4454-f25f-68ec41f927e4"
      },
      "execution_count": 16,
      "outputs": [
        {
          "output_type": "execute_result",
          "data": {
            "text/plain": [
              "[{'numberOfMovies': 38}]"
            ]
          },
          "metadata": {},
          "execution_count": 16
        }
      ]
    },
    {
      "cell_type": "markdown",
      "source": [
        "- Change the variable name in the node pattern match for improved readability"
      ],
      "metadata": {
        "id": "7fbKRbpWuKDq"
      }
    },
    {
      "cell_type": "code",
      "source": [
        "cypher = \"\"\"\n",
        "  MATCH (m:Movie)\n",
        "  RETURN count(m) AS numberOfMovies\n",
        "  \"\"\"\n",
        "kg.query(cypher)"
      ],
      "metadata": {
        "colab": {
          "base_uri": "https://localhost:8080/"
        },
        "id": "yq3gHUFquL6q",
        "outputId": "995a58b3-8897-46df-f17c-e17b07586e7d"
      },
      "execution_count": 17,
      "outputs": [
        {
          "output_type": "execute_result",
          "data": {
            "text/plain": [
              "[{'numberOfMovies': 38}]"
            ]
          },
          "metadata": {},
          "execution_count": 17
        }
      ]
    },
    {
      "cell_type": "markdown",
      "source": [
        "Match only the Person nodes"
      ],
      "metadata": {
        "id": "3EY_eHW5uSkK"
      }
    },
    {
      "cell_type": "code",
      "source": [
        "cypher = \"\"\"\n",
        "  MATCH (people:Person)\n",
        "  RETURN count(people) AS numberOfPeople\n",
        "  \"\"\"\n",
        "kg.query(cypher)"
      ],
      "metadata": {
        "colab": {
          "base_uri": "https://localhost:8080/"
        },
        "id": "NADZTrysuP7q",
        "outputId": "3d493a69-c4f9-4009-d0e7-436bd891cc5f"
      },
      "execution_count": 18,
      "outputs": [
        {
          "output_type": "execute_result",
          "data": {
            "text/plain": [
              "[{'numberOfPeople': 133}]"
            ]
          },
          "metadata": {},
          "execution_count": 18
        }
      ]
    },
    {
      "cell_type": "markdown",
      "source": [
        "Match a single person by specifying the value of the name property on the Person node"
      ],
      "metadata": {
        "id": "KKNJj9A3uaWh"
      }
    },
    {
      "cell_type": "code",
      "source": [
        "cypher = \"\"\"\n",
        "  MATCH (tom:Person {name:\"Tom Hanks\"})\n",
        "  RETURN tom\n",
        "  \"\"\"\n",
        "kg.query(cypher)"
      ],
      "metadata": {
        "colab": {
          "base_uri": "https://localhost:8080/"
        },
        "id": "YTu_iOznuXmp",
        "outputId": "b6b5807c-c33b-4a95-9377-6e9803f6b5ea"
      },
      "execution_count": 19,
      "outputs": [
        {
          "output_type": "execute_result",
          "data": {
            "text/plain": [
              "[{'tom': {'born': 1956, 'name': 'Tom Hanks'}}]"
            ]
          },
          "metadata": {},
          "execution_count": 19
        }
      ]
    },
    {
      "cell_type": "markdown",
      "source": [
        "Match a single Movie by specifying the value of the title property"
      ],
      "metadata": {
        "id": "4h4fQRu4ujBZ"
      }
    },
    {
      "cell_type": "code",
      "source": [
        "cypher = \"\"\"\n",
        "  MATCH (cloudAtlas:Movie {title:\"Cloud Atlas\"})\n",
        "  RETURN cloudAtlas\n",
        "  \"\"\"\n",
        "kg.query(cypher)"
      ],
      "metadata": {
        "colab": {
          "base_uri": "https://localhost:8080/"
        },
        "id": "yd24mu4yuelh",
        "outputId": "919a5f1a-9474-4148-9fea-c11c8b66623e"
      },
      "execution_count": 20,
      "outputs": [
        {
          "output_type": "execute_result",
          "data": {
            "text/plain": [
              "[{'cloudAtlas': {'tagline': 'Everything is connected',\n",
              "   'title': 'Cloud Atlas',\n",
              "   'released': 2012}}]"
            ]
          },
          "metadata": {},
          "execution_count": 20
        }
      ]
    },
    {
      "cell_type": "markdown",
      "source": [
        "Return only the released property of the matched Movie node"
      ],
      "metadata": {
        "id": "T5QKQT_EuvlY"
      }
    },
    {
      "cell_type": "code",
      "source": [
        "cypher = \"\"\"\n",
        "  MATCH (cloudAtlas:Movie {title:\"Cloud Atlas\"})\n",
        "  RETURN cloudAtlas.released\n",
        "  \"\"\"\n",
        "kg.query(cypher)"
      ],
      "metadata": {
        "colab": {
          "base_uri": "https://localhost:8080/"
        },
        "id": "MSa7DPxXunHz",
        "outputId": "2bd266f5-6633-4bb6-cf8e-5c8e728b66d5"
      },
      "execution_count": 21,
      "outputs": [
        {
          "output_type": "execute_result",
          "data": {
            "text/plain": [
              "[{'cloudAtlas.released': 2012}]"
            ]
          },
          "metadata": {},
          "execution_count": 21
        }
      ]
    },
    {
      "cell_type": "markdown",
      "source": [
        "Return two properties"
      ],
      "metadata": {
        "id": "ZSrl6D1Tu0IJ"
      }
    },
    {
      "cell_type": "code",
      "source": [
        "cypher = \"\"\"\n",
        "  MATCH (cloudAtlas:Movie {title:\"Cloud Atlas\"})\n",
        "  RETURN cloudAtlas.released, cloudAtlas.tagline\n",
        "  \"\"\"\n",
        "kg.query(cypher)"
      ],
      "metadata": {
        "colab": {
          "base_uri": "https://localhost:8080/"
        },
        "id": "8Tk9e3hxu3iw",
        "outputId": "b8223fdb-b084-49c8-bd2f-c5620a156c28"
      },
      "execution_count": 22,
      "outputs": [
        {
          "output_type": "execute_result",
          "data": {
            "text/plain": [
              "[{'cloudAtlas.released': 2012,\n",
              "  'cloudAtlas.tagline': 'Everything is connected'}]"
            ]
          },
          "metadata": {},
          "execution_count": 22
        }
      ]
    },
    {
      "cell_type": "markdown",
      "source": [
        "#Cypher patterns with conditional matching"
      ],
      "metadata": {
        "id": "jkc-xAkDu6y4"
      }
    },
    {
      "cell_type": "code",
      "source": [
        "cypher = \"\"\"\n",
        "  MATCH (nineties:Movie)\n",
        "  WHERE nineties.released >= 1990\n",
        "    AND nineties.released < 2000\n",
        "  RETURN nineties.title\n",
        "  \"\"\"\n"
      ],
      "metadata": {
        "id": "zPNFP1YDvBX-"
      },
      "execution_count": 23,
      "outputs": []
    },
    {
      "cell_type": "code",
      "source": [
        "kg.query(cypher)"
      ],
      "metadata": {
        "colab": {
          "base_uri": "https://localhost:8080/"
        },
        "id": "HQxVLKbhvElR",
        "outputId": "445e4086-488d-468f-e286-9f6e412ac5c3"
      },
      "execution_count": 24,
      "outputs": [
        {
          "output_type": "execute_result",
          "data": {
            "text/plain": [
              "[{'nineties.title': 'Joe Versus the Volcano'},\n",
              " {'nineties.title': 'A Few Good Men'},\n",
              " {'nineties.title': 'Unforgiven'},\n",
              " {'nineties.title': 'Hoffa'},\n",
              " {'nineties.title': 'A League of Their Own'},\n",
              " {'nineties.title': 'Sleepless in Seattle'},\n",
              " {'nineties.title': 'Johnny Mnemonic'},\n",
              " {'nineties.title': 'Apollo 13'},\n",
              " {'nineties.title': 'That Thing You Do'},\n",
              " {'nineties.title': 'The Birdcage'},\n",
              " {'nineties.title': 'Twister'},\n",
              " {'nineties.title': \"The Devil's Advocate\"},\n",
              " {'nineties.title': 'As Good as It Gets'},\n",
              " {'nineties.title': 'What Dreams May Come'},\n",
              " {'nineties.title': \"You've Got Mail\"},\n",
              " {'nineties.title': 'When Harry Met Sally'},\n",
              " {'nineties.title': 'The Matrix'},\n",
              " {'nineties.title': 'Snow Falling on Cedars'},\n",
              " {'nineties.title': 'The Green Mile'},\n",
              " {'nineties.title': 'Bicentennial Man'}]"
            ]
          },
          "metadata": {},
          "execution_count": 24
        }
      ]
    },
    {
      "cell_type": "markdown",
      "source": [
        "#Pattern matching with multiple nodes"
      ],
      "metadata": {
        "id": "qPzXSPyYvMuP"
      }
    },
    {
      "cell_type": "code",
      "source": [
        "cypher = \"\"\"\n",
        "  MATCH (actor:Person)-[:ACTED_IN]->(movie:Movie)\n",
        "  RETURN actor.name, movie.title LIMIT 10\n",
        "  \"\"\"\n",
        "kg.query(cypher)"
      ],
      "metadata": {
        "colab": {
          "base_uri": "https://localhost:8080/"
        },
        "id": "mOBCdSVrvJ6X",
        "outputId": "d4257e2a-4e29-439c-888d-1bfe321e960b"
      },
      "execution_count": 25,
      "outputs": [
        {
          "output_type": "execute_result",
          "data": {
            "text/plain": [
              "[{'actor.name': 'Keanu Reeves', 'movie.title': 'The Matrix'},\n",
              " {'actor.name': 'Carrie-Anne Moss', 'movie.title': 'The Matrix'},\n",
              " {'actor.name': 'Laurence Fishburne', 'movie.title': 'The Matrix'},\n",
              " {'actor.name': 'Hugo Weaving', 'movie.title': 'The Matrix'},\n",
              " {'actor.name': 'Emil Eifrem', 'movie.title': 'The Matrix'},\n",
              " {'actor.name': 'Keanu Reeves', 'movie.title': 'The Matrix Reloaded'},\n",
              " {'actor.name': 'Carrie-Anne Moss', 'movie.title': 'The Matrix Reloaded'},\n",
              " {'actor.name': 'Laurence Fishburne', 'movie.title': 'The Matrix Reloaded'},\n",
              " {'actor.name': 'Hugo Weaving', 'movie.title': 'The Matrix Reloaded'},\n",
              " {'actor.name': 'Keanu Reeves', 'movie.title': 'The Matrix Revolutions'}]"
            ]
          },
          "metadata": {},
          "execution_count": 25
        }
      ]
    },
    {
      "cell_type": "markdown",
      "source": [],
      "metadata": {
        "id": "Aw9FC_gHvRgH"
      }
    },
    {
      "cell_type": "code",
      "source": [
        "cypher = \"\"\"\n",
        "  MATCH (tom:Person {name: \"Tom Hanks\"})-[:ACTED_IN]->(tomHanksMovies:Movie)\n",
        "  RETURN tom.name,tomHanksMovies.title\n",
        "  \"\"\"\n",
        "kg.query(cypher)"
      ],
      "metadata": {
        "colab": {
          "base_uri": "https://localhost:8080/"
        },
        "id": "i8GIEbT6vU1m",
        "outputId": "db296d5d-57fb-47cf-bf5a-d71fd2d1909b"
      },
      "execution_count": 26,
      "outputs": [
        {
          "output_type": "execute_result",
          "data": {
            "text/plain": [
              "[{'tom.name': 'Tom Hanks', 'tomHanksMovies.title': \"You've Got Mail\"},\n",
              " {'tom.name': 'Tom Hanks', 'tomHanksMovies.title': 'Sleepless in Seattle'},\n",
              " {'tom.name': 'Tom Hanks', 'tomHanksMovies.title': 'Joe Versus the Volcano'},\n",
              " {'tom.name': 'Tom Hanks', 'tomHanksMovies.title': 'That Thing You Do'},\n",
              " {'tom.name': 'Tom Hanks', 'tomHanksMovies.title': 'Cloud Atlas'},\n",
              " {'tom.name': 'Tom Hanks', 'tomHanksMovies.title': 'The Da Vinci Code'},\n",
              " {'tom.name': 'Tom Hanks', 'tomHanksMovies.title': 'The Green Mile'},\n",
              " {'tom.name': 'Tom Hanks', 'tomHanksMovies.title': 'Apollo 13'},\n",
              " {'tom.name': 'Tom Hanks', 'tomHanksMovies.title': 'Cast Away'},\n",
              " {'tom.name': 'Tom Hanks', 'tomHanksMovies.title': \"Charlie Wilson's War\"},\n",
              " {'tom.name': 'Tom Hanks', 'tomHanksMovies.title': 'The Polar Express'},\n",
              " {'tom.name': 'Tom Hanks', 'tomHanksMovies.title': 'A League of Their Own'}]"
            ]
          },
          "metadata": {},
          "execution_count": 26
        }
      ]
    },
    {
      "cell_type": "code",
      "source": [
        "cypher = \"\"\"\n",
        "  MATCH (tom:Person {name:\"Tom Hanks\"})-[:ACTED_IN]->(m)<-[:ACTED_IN]-(coActors)\n",
        "  RETURN coActors.name, m.title\n",
        "  \"\"\"\n",
        "kg.query(cypher)"
      ],
      "metadata": {
        "colab": {
          "base_uri": "https://localhost:8080/"
        },
        "id": "GZRWWvMovZwm",
        "outputId": "afd4244c-252a-44bf-d464-34c287cd180b"
      },
      "execution_count": 27,
      "outputs": [
        {
          "output_type": "execute_result",
          "data": {
            "text/plain": [
              "[{'coActors.name': 'Meg Ryan', 'm.title': \"You've Got Mail\"},\n",
              " {'coActors.name': 'Greg Kinnear', 'm.title': \"You've Got Mail\"},\n",
              " {'coActors.name': 'Parker Posey', 'm.title': \"You've Got Mail\"},\n",
              " {'coActors.name': 'Dave Chappelle', 'm.title': \"You've Got Mail\"},\n",
              " {'coActors.name': 'Steve Zahn', 'm.title': \"You've Got Mail\"},\n",
              " {'coActors.name': 'Meg Ryan', 'm.title': 'Sleepless in Seattle'},\n",
              " {'coActors.name': 'Rita Wilson', 'm.title': 'Sleepless in Seattle'},\n",
              " {'coActors.name': 'Bill Pullman', 'm.title': 'Sleepless in Seattle'},\n",
              " {'coActors.name': 'Victor Garber', 'm.title': 'Sleepless in Seattle'},\n",
              " {'coActors.name': \"Rosie O'Donnell\", 'm.title': 'Sleepless in Seattle'},\n",
              " {'coActors.name': 'Meg Ryan', 'm.title': 'Joe Versus the Volcano'},\n",
              " {'coActors.name': 'Nathan Lane', 'm.title': 'Joe Versus the Volcano'},\n",
              " {'coActors.name': 'Charlize Theron', 'm.title': 'That Thing You Do'},\n",
              " {'coActors.name': 'Liv Tyler', 'm.title': 'That Thing You Do'},\n",
              " {'coActors.name': 'Hugo Weaving', 'm.title': 'Cloud Atlas'},\n",
              " {'coActors.name': 'Halle Berry', 'm.title': 'Cloud Atlas'},\n",
              " {'coActors.name': 'Jim Broadbent', 'm.title': 'Cloud Atlas'},\n",
              " {'coActors.name': 'Ian McKellen', 'm.title': 'The Da Vinci Code'},\n",
              " {'coActors.name': 'Audrey Tautou', 'm.title': 'The Da Vinci Code'},\n",
              " {'coActors.name': 'Paul Bettany', 'm.title': 'The Da Vinci Code'},\n",
              " {'coActors.name': 'Bonnie Hunt', 'm.title': 'The Green Mile'},\n",
              " {'coActors.name': 'James Cromwell', 'm.title': 'The Green Mile'},\n",
              " {'coActors.name': 'Michael Clarke Duncan', 'm.title': 'The Green Mile'},\n",
              " {'coActors.name': 'David Morse', 'm.title': 'The Green Mile'},\n",
              " {'coActors.name': 'Sam Rockwell', 'm.title': 'The Green Mile'},\n",
              " {'coActors.name': 'Gary Sinise', 'm.title': 'The Green Mile'},\n",
              " {'coActors.name': 'Patricia Clarkson', 'm.title': 'The Green Mile'},\n",
              " {'coActors.name': 'Kevin Bacon', 'm.title': 'Apollo 13'},\n",
              " {'coActors.name': 'Gary Sinise', 'm.title': 'Apollo 13'},\n",
              " {'coActors.name': 'Ed Harris', 'm.title': 'Apollo 13'},\n",
              " {'coActors.name': 'Bill Paxton', 'm.title': 'Apollo 13'},\n",
              " {'coActors.name': 'Helen Hunt', 'm.title': 'Cast Away'},\n",
              " {'coActors.name': 'Philip Seymour Hoffman',\n",
              "  'm.title': \"Charlie Wilson's War\"},\n",
              " {'coActors.name': 'Julia Roberts', 'm.title': \"Charlie Wilson's War\"},\n",
              " {'coActors.name': \"Rosie O'Donnell\", 'm.title': 'A League of Their Own'},\n",
              " {'coActors.name': 'Bill Paxton', 'm.title': 'A League of Their Own'},\n",
              " {'coActors.name': 'Madonna', 'm.title': 'A League of Their Own'},\n",
              " {'coActors.name': 'Geena Davis', 'm.title': 'A League of Their Own'},\n",
              " {'coActors.name': 'Lori Petty', 'm.title': 'A League of Their Own'}]"
            ]
          },
          "metadata": {},
          "execution_count": 27
        }
      ]
    },
    {
      "cell_type": "markdown",
      "source": [
        "#Delete data from the graph"
      ],
      "metadata": {
        "id": "CEKOitBuvasu"
      }
    },
    {
      "cell_type": "code",
      "source": [
        "cypher = \"\"\"\n",
        "MATCH (emil:Person {name:\"Emil Eifrem\"})-[actedIn:ACTED_IN]->(movie:Movie)\n",
        "RETURN emil.name, movie.title\n",
        "\"\"\"\n",
        "kg.query(cypher)"
      ],
      "metadata": {
        "colab": {
          "base_uri": "https://localhost:8080/"
        },
        "id": "xLT0yahqvgS-",
        "outputId": "638a33b8-5c0e-4809-ce4c-b03aabb4745b"
      },
      "execution_count": 28,
      "outputs": [
        {
          "output_type": "execute_result",
          "data": {
            "text/plain": [
              "[{'emil.name': 'Emil Eifrem', 'movie.title': 'The Matrix'}]"
            ]
          },
          "metadata": {},
          "execution_count": 28
        }
      ]
    },
    {
      "cell_type": "code",
      "source": [
        "cypher = \"\"\"\n",
        "MATCH (emil:Person {name:\"Emil Eifrem\"})-[actedIn:ACTED_IN]->(movie:Movie)\n",
        "DELETE actedIn\n",
        "\"\"\"\n",
        "kg.query(cypher)"
      ],
      "metadata": {
        "colab": {
          "base_uri": "https://localhost:8080/"
        },
        "id": "K1rtCRCUvjoV",
        "outputId": "e518043f-b05c-4c7b-a5ce-9a26014483cb"
      },
      "execution_count": 29,
      "outputs": [
        {
          "output_type": "execute_result",
          "data": {
            "text/plain": [
              "[]"
            ]
          },
          "metadata": {},
          "execution_count": 29
        }
      ]
    },
    {
      "cell_type": "markdown",
      "source": [
        "#Adding data to the graph"
      ],
      "metadata": {
        "id": "OnUvF22lvnLG"
      }
    },
    {
      "cell_type": "code",
      "source": [
        "cypher = \"\"\"\n",
        "CREATE (andreas:Person {name:\"Andreas\"})\n",
        "RETURN andreas\n",
        "\"\"\"\n",
        "\n",
        "kg.query(cypher)"
      ],
      "metadata": {
        "colab": {
          "base_uri": "https://localhost:8080/"
        },
        "id": "Kh9TJ_aqvr35",
        "outputId": "9430686a-4d7b-43f5-e1b4-b0cad2bc2fa9"
      },
      "execution_count": 30,
      "outputs": [
        {
          "output_type": "execute_result",
          "data": {
            "text/plain": [
              "[{'andreas': {'name': 'Andreas'}}]"
            ]
          },
          "metadata": {},
          "execution_count": 30
        }
      ]
    },
    {
      "cell_type": "code",
      "source": [
        "cypher = \"\"\"\n",
        "MATCH (andreas:Person {name:\"Andreas\"}), (emil:Person {name:\"Emil Eifrem\"})\n",
        "MERGE (andreas)-[hasRelationship:WORKS_WITH]->(emil)\n",
        "RETURN andreas, hasRelationship, emil\n",
        "\"\"\"\n",
        "kg.query(cypher)"
      ],
      "metadata": {
        "colab": {
          "base_uri": "https://localhost:8080/"
        },
        "id": "UFrFzwtsvvzF",
        "outputId": "dc577658-dcd5-43a9-ca1f-481a73f43573"
      },
      "execution_count": 31,
      "outputs": [
        {
          "output_type": "execute_result",
          "data": {
            "text/plain": [
              "[{'andreas': {'name': 'Andreas'},\n",
              "  'hasRelationship': ({'name': 'Andreas'},\n",
              "   'WORKS_WITH',\n",
              "   {'born': 1978, 'name': 'Emil Eifrem'}),\n",
              "  'emil': {'born': 1978, 'name': 'Emil Eifrem'}}]"
            ]
          },
          "metadata": {},
          "execution_count": 31
        }
      ]
    }
  ]
}