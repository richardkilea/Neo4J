{
  "nbformat": 4,
  "nbformat_minor": 0,
  "metadata": {
    "colab": {
      "provenance": [],
      "authorship_tag": "ABX9TyOBVZDMUno3+8dw/aD8bFwJ",
      "include_colab_link": true
    },
    "kernelspec": {
      "name": "python3",
      "display_name": "Python 3"
    },
    "language_info": {
      "name": "python"
    },
    "widgets": {
      "application/vnd.jupyter.widget-state+json": {
        "74ad22e2732f4c8ab96af2142dc56cfb": {
          "model_module": "yfiles-jupyter-graphs",
          "model_name": "GraphModel",
          "model_module_version": "^1.6.2",
          "state": {
            "_context_pane_mapping": [
              {
                "id": "Neighborhood",
                "title": "Neighborhood"
              },
              {
                "id": "Data",
                "title": "Data"
              },
              {
                "id": "Search",
                "title": "Search"
              },
              {
                "id": "About",
                "title": "About"
              }
            ],
            "_data_importer": "neo4j",
            "_directed": true,
            "_dom_classes": [],
            "_edges": [
              {
                "id": 1152922604118474800,
                "start": 1,
                "end": 2,
                "properties": {
                  "label": "CONVERSION"
                },
                "label": "CONVERSION",
                "color": "#F44336",
                "thickness_factor": 1,
                "directed": true
              },
              {
                "id": 1152924803141730300,
                "start": 6,
                "end": 9,
                "properties": {
                  "label": "IMPROVE"
                },
                "label": "IMPROVE",
                "color": "#607D8B",
                "thickness_factor": 1,
                "directed": true
              },
              {
                "id": 1152925902653358000,
                "start": 6,
                "end": 10,
                "properties": {
                  "label": "REDUCE"
                },
                "label": "REDUCE",
                "color": "#673AB7",
                "thickness_factor": 1,
                "directed": true
              },
              {
                "id": 1152923703630102500,
                "start": 7,
                "end": 6,
                "properties": {
                  "label": "EXPLAINS"
                },
                "label": "EXPLAINS",
                "color": "#CDDC39",
                "thickness_factor": 1,
                "directed": true
              },
              {
                "id": 1152923703630102500,
                "start": 13,
                "end": 12,
                "properties": {
                  "label": "EXPLAINS"
                },
                "label": "EXPLAINS",
                "color": "#CDDC39",
                "thickness_factor": 1,
                "directed": true
              },
              {
                "id": 1152927002164985900,
                "start": 15,
                "end": 16,
                "properties": {
                  "label": "INVOLVES"
                },
                "label": "INVOLVES",
                "color": "#9E9E9E",
                "thickness_factor": 1,
                "directed": true
              },
              {
                "id": 1152928101676613600,
                "start": 18,
                "end": 19,
                "properties": {
                  "label": "CURRENTLY_USED"
                },
                "label": "CURRENTLY_USED",
                "color": "#9C27B0",
                "thickness_factor": 1,
                "directed": true
              },
              {
                "id": 1152929201188241400,
                "start": 20,
                "end": 18,
                "properties": {
                  "label": "SOLUTION"
                },
                "label": "SOLUTION",
                "color": "#2196F3",
                "thickness_factor": 1,
                "directed": true
              },
              {
                "id": 1152930300699869200,
                "start": 22,
                "end": 23,
                "properties": {
                  "label": "USES"
                },
                "label": "USES",
                "color": "#4CAF50",
                "thickness_factor": 1,
                "directed": true
              },
              {
                "id": 1155182100513554400,
                "start": 22,
                "end": 24,
                "properties": {
                  "label": "USES"
                },
                "label": "USES",
                "color": "#4CAF50",
                "thickness_factor": 1,
                "directed": true
              },
              {
                "id": 1157433900327239700,
                "start": 22,
                "end": 25,
                "properties": {
                  "label": "USES"
                },
                "label": "USES",
                "color": "#4CAF50",
                "thickness_factor": 1,
                "directed": true
              },
              {
                "id": 1159685700140925000,
                "start": 22,
                "end": 26,
                "properties": {
                  "label": "USES"
                },
                "label": "USES",
                "color": "#4CAF50",
                "thickness_factor": 1,
                "directed": true
              },
              {
                "id": 1161937499954610200,
                "start": 22,
                "end": 27,
                "properties": {
                  "label": "USES"
                },
                "label": "USES",
                "color": "#4CAF50",
                "thickness_factor": 1,
                "directed": true
              },
              {
                "id": 1164189299768295400,
                "start": 22,
                "end": 28,
                "properties": {
                  "label": "USES"
                },
                "label": "USES",
                "color": "#4CAF50",
                "thickness_factor": 1,
                "directed": true
              },
              {
                "id": 1152931400211497000,
                "start": 30,
                "end": 26,
                "properties": {
                  "label": "DECOMPOSITION"
                },
                "label": "DECOMPOSITION",
                "color": "#F44336",
                "thickness_factor": 1,
                "directed": true
              },
              {
                "id": 1155183200025182200,
                "start": 30,
                "end": 31,
                "properties": {
                  "label": "DECOMPOSITION"
                },
                "label": "DECOMPOSITION",
                "color": "#F44336",
                "thickness_factor": 1,
                "directed": true
              }
            ],
            "_graph_layout": {},
            "_highlight": [],
            "_license": {},
            "_model_module": "yfiles-jupyter-graphs",
            "_model_module_version": "^1.6.2",
            "_model_name": "GraphModel",
            "_neighborhood": {},
            "_nodes": [
              {
                "id": 1,
                "properties": {
                  "id": "Electricity",
                  "label": "Energy:__Entity__"
                },
                "color": "#2196F3",
                "styles": {},
                "label": "Electricity",
                "scale_factor": 1,
                "type": "#2196F3",
                "size": [
                  55,
                  55
                ],
                "position": [
                  0,
                  0
                ]
              },
              {
                "id": 2,
                "properties": {
                  "id": "Fuels",
                  "label": "Energy:__Entity__"
                },
                "color": "#2196F3",
                "styles": {},
                "label": "Fuels",
                "scale_factor": 1,
                "type": "#2196F3",
                "size": [
                  55,
                  55
                ],
                "position": [
                  0,
                  0
                ]
              },
              {
                "id": 6,
                "properties": {
                  "id": "Electrolyzers",
                  "label": "__Entity__:Concept:Device"
                },
                "color": "#4CAF50",
                "styles": {},
                "label": "Electrolyzers",
                "scale_factor": 1,
                "type": "#4CAF50",
                "size": [
                  55,
                  55
                ],
                "position": [
                  0,
                  0
                ]
              },
              {
                "id": 9,
                "properties": {
                  "id": "Efficiency",
                  "label": "__Entity__:Attribute"
                },
                "color": "#F44336",
                "styles": {},
                "label": "Efficiency",
                "scale_factor": 1,
                "type": "#F44336",
                "size": [
                  55,
                  55
                ],
                "position": [
                  0,
                  0
                ]
              },
              {
                "id": 10,
                "properties": {
                  "id": "Costs",
                  "label": "__Entity__:Attribute"
                },
                "color": "#F44336",
                "styles": {},
                "label": "Costs",
                "scale_factor": 1,
                "type": "#F44336",
                "size": [
                  55,
                  55
                ],
                "position": [
                  0,
                  0
                ]
              },
              {
                "id": 7,
                "properties": {
                  "id": "Physics",
                  "label": "__Entity__:Concept"
                },
                "color": "#607D8B",
                "styles": {},
                "label": "Physics",
                "scale_factor": 1,
                "type": "#607D8B",
                "size": [
                  55,
                  55
                ],
                "position": [
                  0,
                  0
                ]
              },
              {
                "id": 13,
                "properties": {
                  "id": "Scientific Principles",
                  "label": "__Entity__:Concept"
                },
                "color": "#607D8B",
                "styles": {},
                "label": "Scientific Principles",
                "scale_factor": 1,
                "type": "#607D8B",
                "size": [
                  55,
                  55
                ],
                "position": [
                  0,
                  0
                ]
              },
              {
                "id": 12,
                "properties": {
                  "id": "Co2 Reduction",
                  "label": "__Entity__:Concept"
                },
                "color": "#607D8B",
                "styles": {},
                "label": "Co2 Reduction",
                "scale_factor": 1,
                "type": "#607D8B",
                "size": [
                  55,
                  55
                ],
                "position": [
                  0,
                  0
                ]
              },
              {
                "id": 15,
                "properties": {
                  "id": "H2Economy",
                  "label": "__Entity__:Concept"
                },
                "color": "#607D8B",
                "styles": {},
                "label": "H2Economy",
                "scale_factor": 1,
                "type": "#607D8B",
                "size": [
                  55,
                  55
                ],
                "position": [
                  0,
                  0
                ]
              },
              {
                "id": 16,
                "properties": {
                  "id": "Production",
                  "label": "Process:__Entity__"
                },
                "color": "#673AB7",
                "styles": {},
                "label": "Production",
                "scale_factor": 1,
                "type": "#673AB7",
                "size": [
                  55,
                  55
                ],
                "position": [
                  0,
                  0
                ]
              },
              {
                "id": 18,
                "properties": {
                  "id": "Hydrogen",
                  "label": "__Entity__:Element"
                },
                "color": "#CDDC39",
                "styles": {},
                "label": "Hydrogen",
                "scale_factor": 1,
                "type": "#CDDC39",
                "size": [
                  55,
                  55
                ],
                "position": [
                  0,
                  0
                ]
              },
              {
                "id": 19,
                "properties": {
                  "id": "Fossil Fuels",
                  "label": "Substance:__Entity__"
                },
                "color": "#9E9E9E",
                "styles": {},
                "label": "Fossil Fuels",
                "scale_factor": 1,
                "type": "#9E9E9E",
                "size": [
                  55,
                  55
                ],
                "position": [
                  0,
                  0
                ]
              },
              {
                "id": 20,
                "properties": {
                  "id": "Electrochemistry",
                  "label": "__Entity__:Concept"
                },
                "color": "#607D8B",
                "styles": {},
                "label": "Electrochemistry",
                "scale_factor": 1,
                "type": "#607D8B",
                "size": [
                  55,
                  55
                ],
                "position": [
                  0,
                  0
                ]
              },
              {
                "id": 22,
                "properties": {
                  "id": "Electical",
                  "label": "__Entity__:Energy device"
                },
                "color": "#9C27B0",
                "styles": {},
                "label": "Electical",
                "scale_factor": 1,
                "type": "#9C27B0",
                "size": [
                  55,
                  55
                ],
                "position": [
                  0,
                  0
                ]
              },
              {
                "id": 23,
                "properties": {
                  "id": "Heating",
                  "label": "__Entity__:Energy device"
                },
                "color": "#9C27B0",
                "styles": {},
                "label": "Heating",
                "scale_factor": 1,
                "type": "#9C27B0",
                "size": [
                  55,
                  55
                ],
                "position": [
                  0,
                  0
                ]
              },
              {
                "id": 24,
                "properties": {
                  "id": "Electrolyzer",
                  "label": "__Entity__:Energy device"
                },
                "color": "#9C27B0",
                "styles": {},
                "label": "Electrolyzer",
                "scale_factor": 1,
                "type": "#9C27B0",
                "size": [
                  55,
                  55
                ],
                "position": [
                  0,
                  0
                ]
              },
              {
                "id": 25,
                "properties": {
                  "id": "Fuel Cell",
                  "label": "__Entity__:Energy device"
                },
                "color": "#9C27B0",
                "styles": {},
                "label": "Fuel Cell",
                "scale_factor": 1,
                "type": "#9C27B0",
                "size": [
                  55,
                  55
                ],
                "position": [
                  0,
                  0
                ]
              },
              {
                "id": 26,
                "properties": {
                  "id": "H2",
                  "label": "Molecule:__Entity__:Energy device"
                },
                "color": "#2196F3",
                "styles": {},
                "label": "H2",
                "scale_factor": 1,
                "type": "#2196F3",
                "size": [
                  55,
                  55
                ],
                "position": [
                  0,
                  0
                ]
              },
              {
                "id": 27,
                "properties": {
                  "id": "Storageh2E-",
                  "label": "__Entity__:Energy device"
                },
                "color": "#9C27B0",
                "styles": {},
                "label": "Storageh2E-",
                "scale_factor": 1,
                "type": "#9C27B0",
                "size": [
                  55,
                  55
                ],
                "position": [
                  0,
                  0
                ]
              },
              {
                "id": 28,
                "properties": {
                  "id": "E-Car",
                  "label": "__Entity__:Energy device"
                },
                "color": "#9C27B0",
                "styles": {},
                "label": "E-Car",
                "scale_factor": 1,
                "type": "#9C27B0",
                "size": [
                  55,
                  55
                ],
                "position": [
                  0,
                  0
                ]
              },
              {
                "id": 30,
                "properties": {
                  "id": "H2O",
                  "label": "Molecule:__Entity__"
                },
                "color": "#4CAF50",
                "styles": {},
                "label": "H2O",
                "scale_factor": 1,
                "type": "#4CAF50",
                "size": [
                  55,
                  55
                ],
                "position": [
                  0,
                  0
                ]
              },
              {
                "id": 31,
                "properties": {
                  "id": "O2",
                  "label": "Molecule:__Entity__"
                },
                "color": "#4CAF50",
                "styles": {},
                "label": "O2",
                "scale_factor": 1,
                "type": "#4CAF50",
                "size": [
                  55,
                  55
                ],
                "position": [
                  0,
                  0
                ]
              }
            ],
            "_overview": {
              "enabled": null,
              "overview_set": false
            },
            "_selected_graph": [
              [],
              []
            ],
            "_sidebar": {
              "enabled": true,
              "start_with": ""
            },
            "_view_count": null,
            "_view_module": "yfiles-jupyter-graphs",
            "_view_module_version": "^1.6.2",
            "_view_name": "GraphView",
            "layout": "IPY_MODEL_1cc6b8f719a343af91bb8e202f5bfb9a"
          }
        },
        "1cc6b8f719a343af91bb8e202f5bfb9a": {
          "model_module": "@jupyter-widgets/base",
          "model_name": "LayoutModel",
          "model_module_version": "1.2.0",
          "state": {
            "_model_module": "@jupyter-widgets/base",
            "_model_module_version": "1.2.0",
            "_model_name": "LayoutModel",
            "_view_count": null,
            "_view_module": "@jupyter-widgets/base",
            "_view_module_version": "1.2.0",
            "_view_name": "LayoutView",
            "align_content": null,
            "align_items": null,
            "align_self": null,
            "border": null,
            "bottom": null,
            "display": null,
            "flex": null,
            "flex_flow": null,
            "grid_area": null,
            "grid_auto_columns": null,
            "grid_auto_flow": null,
            "grid_auto_rows": null,
            "grid_column": null,
            "grid_gap": null,
            "grid_row": null,
            "grid_template_areas": null,
            "grid_template_columns": null,
            "grid_template_rows": null,
            "height": "720px",
            "justify_content": null,
            "justify_items": null,
            "left": null,
            "margin": null,
            "max_height": null,
            "max_width": null,
            "min_height": null,
            "min_width": null,
            "object_fit": null,
            "object_position": null,
            "order": null,
            "overflow": null,
            "overflow_x": null,
            "overflow_y": null,
            "padding": null,
            "right": null,
            "top": null,
            "visibility": null,
            "width": "100%"
          }
        }
      }
    }
  },
  "cells": [
    {
      "cell_type": "markdown",
      "metadata": {
        "id": "view-in-github",
        "colab_type": "text"
      },
      "source": [
        "<a href=\"https://colab.research.google.com/github/richardkilea/Neo4J/blob/main/knowledge_graphs_from_Text.ipynb\" target=\"_parent\"><img src=\"https://colab.research.google.com/assets/colab-badge.svg\" alt=\"Open In Colab\"/></a>"
      ]
    },
    {
      "cell_type": "code",
      "execution_count": null,
      "metadata": {
        "id": "IpaR7-5QbaRv"
      },
      "outputs": [],
      "source": [
        "!pip install python-docx\n",
        "!pip install python-dotenv\n",
        "!pip install langchain\n",
        "!pip install langchainhub\n",
        "!pip install openai langchain-openai\n",
        "!pip install -U langchain-openai\n",
        "!pip install langchain_community\n",
        "!pip install neo4j\n",
        "!pip install langchain-experimental\n",
        "!pip install yfiles_jupyter_graphs\n",
        "!pip install pypdf"
      ]
    },
    {
      "cell_type": "code",
      "execution_count": 2,
      "metadata": {
        "id": "jPIRSGz4tHNV"
      },
      "outputs": [],
      "source": [
        "from langchain_core.runnables import (\n",
        "    RunnableBranch,\n",
        "    RunnableLambda,\n",
        "    RunnableParallel,\n",
        "    RunnablePassthrough,\n",
        ")\n",
        "from langchain_core.prompts import ChatPromptTemplate\n",
        "from langchain_core.prompts.prompt import PromptTemplate\n",
        "from langchain_core.pydantic_v1 import BaseModel, Field\n",
        "from typing import Tuple, List, Optional\n",
        "from langchain_core.messages import AIMessage, HumanMessage\n",
        "from langchain_core.output_parsers import StrOutputParser\n",
        "import os\n",
        "import getpass, sys, re\n",
        "from langchain_community.graphs import Neo4jGraph\n",
        "from langchain.document_loaders import WikipediaLoader\n",
        "from langchain_community.document_loaders import PyPDFLoader\n",
        "from langchain.text_splitter import TokenTextSplitter\n",
        "from langchain.text_splitter import RecursiveCharacterTextSplitter\n",
        "from langchain_openai import ChatOpenAI\n",
        "from langchain_experimental.graph_transformers import LLMGraphTransformer\n",
        "from neo4j import GraphDatabase\n",
        "from yfiles_jupyter_graphs import GraphWidget\n",
        "from langchain_community.vectorstores import Neo4jVector\n",
        "from langchain_openai import OpenAIEmbeddings\n",
        "from langchain_community.vectorstores.neo4j_vector import remove_lucene_chars\n",
        "from langchain_core.runnables import ConfigurableField, RunnableParallel, RunnablePassthrough\n",
        "\n",
        "try:\n",
        "  import google.colab\n",
        "  from google.colab import output\n",
        "  output.enable_custom_widget_manager()\n",
        "except:\n",
        "  pass"
      ]
    },
    {
      "cell_type": "code",
      "source": [
        "os.environ[\"OPENAI_API_KEY\"] = \"sk-\"\n",
        "os.environ[\"NEO4J_URI\"] = \"neo4j+s\"\n",
        "os.environ[\"NEO4J_USERNAME\"] = \"neo4j\"\n",
        "os.environ[\"NEO4J_PASSWORD\"] = \"L1k\"\n",
        "\n",
        "graph = Neo4jGraph()\n"
      ],
      "metadata": {
        "id": "QpxW08j1dYIC"
      },
      "execution_count": 20,
      "outputs": []
    },
    {
      "cell_type": "markdown",
      "source": [
        "#Data ingestion"
      ],
      "metadata": {
        "id": "1UTMywkseKA5"
      }
    },
    {
      "cell_type": "code",
      "source": [
        "raw_documents = PyPDFLoader(\"/content/Electrolyzer.pdf\").load()\n",
        "# Define chunking strategy\n",
        "text_splitter = RecursiveCharacterTextSplitter(\n",
        "    chunk_size=100,\n",
        "    chunk_overlap=0,\n",
        "    length_function=len,\n",
        "    is_separator_regex=False\n",
        ")\n",
        "documents = text_splitter.split_documents(raw_documents[:3])"
      ],
      "metadata": {
        "id": "UhFWY6DmeEoS"
      },
      "execution_count": 10,
      "outputs": []
    },
    {
      "cell_type": "code",
      "source": [
        "llm=ChatOpenAI(temperature=0, model_name=\"gpt-3.5-turbo-0125\")\n",
        "llm_transformer = LLMGraphTransformer(llm=llm)\n",
        "\n",
        "graph_documents = llm_transformer.convert_to_graph_documents(documents)\n",
        "graph.add_graph_documents(\n",
        "    graph_documents,\n",
        "    baseEntityLabel=True,\n",
        "    include_source=True\n",
        ")"
      ],
      "metadata": {
        "id": "yAVv2Suoe6mp"
      },
      "execution_count": 21,
      "outputs": []
    },
    {
      "cell_type": "code",
      "source": [
        "# directly show the graph resulting from the given Cypher query\n",
        "default_cypher = \"MATCH (s)-[r:!MENTIONS]->(t) RETURN s,r,t LIMIT 50\"\n",
        "\n",
        "def showGraph(cypher: str = default_cypher):\n",
        "    # create a neo4j session to run queries\n",
        "    driver = GraphDatabase.driver(\n",
        "        uri = os.environ[\"NEO4J_URI\"],\n",
        "        auth = (os.environ[\"NEO4J_USERNAME\"],\n",
        "                os.environ[\"NEO4J_PASSWORD\"]))\n",
        "    session = driver.session()\n",
        "    widget = GraphWidget(graph = session.run(cypher).graph())\n",
        "    widget.node_label_mapping = 'id'\n",
        "    #display(widget)\n",
        "    return widget\n",
        "\n",
        "showGraph()"
      ],
      "metadata": {
        "colab": {
          "base_uri": "https://localhost:8080/",
          "height": 737,
          "referenced_widgets": [
            "74ad22e2732f4c8ab96af2142dc56cfb",
            "1cc6b8f719a343af91bb8e202f5bfb9a"
          ]
        },
        "id": "QgN57jnig4mj",
        "outputId": "47d1fcf1-419c-475d-bdb3-d9c52964c539"
      },
      "execution_count": 22,
      "outputs": [
        {
          "output_type": "display_data",
          "data": {
            "text/plain": [
              "GraphWidget(layout=Layout(height='720px', width='100%'))"
            ],
            "application/vnd.jupyter.widget-view+json": {
              "version_major": 2,
              "version_minor": 0,
              "model_id": "74ad22e2732f4c8ab96af2142dc56cfb"
            }
          },
          "metadata": {
            "application/vnd.jupyter.widget-view+json": {
              "colab": {
                "custom_widget_manager": {
                  "url": "https://ssl.gstatic.com/colaboratory-static/widgets/colab-cdn-widget-manager/2b70e893a8ba7c0f/manager.min.js"
                }
              }
            }
          }
        }
      ]
    }
  ]
}