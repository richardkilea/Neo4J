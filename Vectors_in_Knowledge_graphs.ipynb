{
  "cells": [
    {
      "cell_type": "markdown",
      "metadata": {
        "id": "view-in-github",
        "colab_type": "text"
      },
      "source": [
        "<a href=\"https://colab.research.google.com/github/richardkilea/Neo4J/blob/main/Vectors_in_Knowledge_graphs.ipynb\" target=\"_parent\"><img src=\"https://colab.research.google.com/assets/colab-badge.svg\" alt=\"Open In Colab\"/></a>"
      ]
    },
    {
      "cell_type": "markdown",
      "id": "9fb43372-7cff-4dc6-8c47-2885aac4c09a",
      "metadata": {
        "id": "9fb43372-7cff-4dc6-8c47-2885aac4c09a"
      },
      "source": [
        "### Import packages and set up Neo4j"
      ]
    },
    {
      "cell_type": "code",
      "source": [
        "!pip install python-docx\n",
        "!pip install python-dotenv\n",
        "!pip install langchain\n",
        "!pip install langchainhub\n",
        "!pip install openai langchain-openai\n",
        "!pip install -U langchain-openai\n",
        "!pip install langchain_community\n",
        "!pip install neo4j"
      ],
      "metadata": {
        "id": "xf2yJnGs8cE3"
      },
      "id": "xf2yJnGs8cE3",
      "execution_count": null,
      "outputs": []
    },
    {
      "cell_type": "code",
      "execution_count": 2,
      "id": "e854e1a7-6c56-48e9-b3f0-999b68940726",
      "metadata": {
        "height": 149,
        "id": "e854e1a7-6c56-48e9-b3f0-999b68940726"
      },
      "outputs": [],
      "source": [
        "from dotenv import load_dotenv\n",
        "import os\n",
        "import getpass, sys, re\n",
        "\n",
        "from langchain_community.graphs import Neo4jGraph\n",
        "\n",
        "# Warning control\n",
        "import warnings\n",
        "warnings.filterwarnings(\"ignore\")"
      ]
    },
    {
      "cell_type": "code",
      "source": [
        "NEO4J_URI = getpass.getpass('Enter the URI: ')\n",
        "NEO4J_USERNAME = getpass.getpass('Enter the username: ')\n",
        "NEO4J_PASSWORD = getpass.getpass('Enter the Password: ')\n",
        "OPENAI_API_KEY = getpass.getpass('Enter openAI KEy: ')"
      ],
      "metadata": {
        "colab": {
          "base_uri": "https://localhost:8080/"
        },
        "id": "QvMFgGSi_XBj",
        "outputId": "5e1fc33c-032f-419a-f6c8-17ab1dd2a615"
      },
      "id": "QvMFgGSi_XBj",
      "execution_count": 16,
      "outputs": [
        {
          "name": "stdout",
          "output_type": "stream",
          "text": [
            "Enter the URI: ··········\n",
            "Enter the username: ··········\n",
            "Enter the Password: ··········\n",
            "Enter openAI KEy: ··········\n"
          ]
        }
      ]
    },
    {
      "cell_type": "code",
      "source": [
        "if os.getenv('OPENAI_BASE_URL'):\n",
        "    OPENAI_ENDPOINT = os.getenv('OPENAI_BASE_URL') + '/embeddings'\n",
        "else:\n",
        "    OPENAI_ENDPOINT = None"
      ],
      "metadata": {
        "id": "j2o_nShfINjO"
      },
      "id": "j2o_nShfINjO",
      "execution_count": 39,
      "outputs": []
    },
    {
      "cell_type": "code",
      "source": [
        "# Connect to the knowledge graph instance using LangChain\n",
        "kg = Neo4jGraph(\n",
        "    url=NEO4J_URI, username=NEO4J_USERNAME, password=NEO4J_PASSWORD)"
      ],
      "metadata": {
        "id": "BTKWYJjRALfV"
      },
      "id": "BTKWYJjRALfV",
      "execution_count": 19,
      "outputs": []
    },
    {
      "cell_type": "markdown",
      "id": "b4478433-1ab7-4ad6-ba51-73d54e45d798",
      "metadata": {
        "id": "b4478433-1ab7-4ad6-ba51-73d54e45d798"
      },
      "source": [
        "### Create a vector index"
      ]
    },
    {
      "cell_type": "code",
      "execution_count": 20,
      "id": "a26f80f6-d21a-447f-a5e2-eb940c0a25e4",
      "metadata": {
        "height": 166,
        "colab": {
          "base_uri": "https://localhost:8080/"
        },
        "id": "a26f80f6-d21a-447f-a5e2-eb940c0a25e4",
        "outputId": "39726f2e-a671-45bd-e02d-a2ae90a9473f"
      },
      "outputs": [
        {
          "output_type": "execute_result",
          "data": {
            "text/plain": [
              "[]"
            ]
          },
          "metadata": {},
          "execution_count": 20
        }
      ],
      "source": [
        "kg.query(\"\"\"\n",
        "  CREATE VECTOR INDEX movie_tagline_embeddings IF NOT EXISTS\n",
        "  FOR (m:Movie) ON (m.taglineEmbedding)\n",
        "  OPTIONS { indexConfig: {\n",
        "    `vector.dimensions`: 1536,\n",
        "    `vector.similarity_function`: 'cosine'\n",
        "  }}\"\"\"\n",
        ")\n"
      ]
    },
    {
      "cell_type": "code",
      "execution_count": 21,
      "id": "9472ede6-18da-4d13-a5de-0dbad618c0f3",
      "metadata": {
        "height": 81,
        "colab": {
          "base_uri": "https://localhost:8080/"
        },
        "id": "9472ede6-18da-4d13-a5de-0dbad618c0f3",
        "outputId": "86593a03-c2c7-4f0f-dff8-7f64967503f4"
      },
      "outputs": [
        {
          "output_type": "execute_result",
          "data": {
            "text/plain": [
              "[{'id': 8,\n",
              "  'name': 'movie_tagline_embeddings',\n",
              "  'state': 'ONLINE',\n",
              "  'populationPercent': 100.0,\n",
              "  'type': 'VECTOR',\n",
              "  'entityType': 'NODE',\n",
              "  'labelsOrTypes': ['Movie'],\n",
              "  'properties': ['taglineEmbedding'],\n",
              "  'indexProvider': 'vector-2.0',\n",
              "  'owningConstraint': None,\n",
              "  'lastRead': None,\n",
              "  'readCount': None}]"
            ]
          },
          "metadata": {},
          "execution_count": 21
        }
      ],
      "source": [
        "kg.query(\"\"\"\n",
        "  SHOW VECTOR INDEXES\n",
        "  \"\"\"\n",
        ")"
      ]
    },
    {
      "cell_type": "markdown",
      "id": "ebe87478-723a-49e4-a197-b4cccd7153b0",
      "metadata": {
        "id": "ebe87478-723a-49e4-a197-b4cccd7153b0"
      },
      "source": [
        "### Populate the vector index\n",
        "- Calculate vector representation for each movie tagline using OpenAI\n",
        "- Add vector to the `Movie` node as `taglineEmbedding` property"
      ]
    },
    {
      "cell_type": "code",
      "execution_count": 24,
      "id": "5921f75b-706d-414a-b7a0-b81623a71a23",
      "metadata": {
        "height": 217,
        "colab": {
          "base_uri": "https://localhost:8080/"
        },
        "id": "5921f75b-706d-414a-b7a0-b81623a71a23",
        "outputId": "40ea1b55-2ca0-4c07-fe15-93bce85c40cf"
      },
      "outputs": [
        {
          "output_type": "execute_result",
          "data": {
            "text/plain": [
              "[]"
            ]
          },
          "metadata": {},
          "execution_count": 24
        }
      ],
      "source": [
        "kg.query(\"\"\"\n",
        "    MATCH (movie:Movie) WHERE movie.tagline IS NOT NULL\n",
        "    WITH movie, genai.vector.encode(\n",
        "        movie.tagline,\n",
        "        \"OpenAI\",\n",
        "        {\n",
        "          token: $openAiApiKey\n",
        "        }) AS vector\n",
        "    CALL db.create.setNodeVectorProperty(movie, \"taglineEmbedding\", vector)\n",
        "    \"\"\",\n",
        "    params={\"openAiApiKey\":OPENAI_API_KEY})"
      ]
    },
    {
      "cell_type": "code",
      "execution_count": 25,
      "id": "73efe0c6-d3e9-4815-9154-04f177101f17",
      "metadata": {
        "height": 132,
        "id": "73efe0c6-d3e9-4815-9154-04f177101f17"
      },
      "outputs": [],
      "source": [
        "result = kg.query(\"\"\"\n",
        "    MATCH (m:Movie)\n",
        "    WHERE m.tagline IS NOT NULL\n",
        "    RETURN m.tagline, m.taglineEmbedding\n",
        "    LIMIT 1\n",
        "    \"\"\"\n",
        ")"
      ]
    },
    {
      "cell_type": "code",
      "execution_count": 26,
      "id": "71f4fe0b-01da-493f-862b-36a60842d648",
      "metadata": {
        "height": 30,
        "colab": {
          "base_uri": "https://localhost:8080/",
          "height": 36
        },
        "id": "71f4fe0b-01da-493f-862b-36a60842d648",
        "outputId": "25567af6-9a1c-4e9a-fa6e-16193913d45a"
      },
      "outputs": [
        {
          "output_type": "execute_result",
          "data": {
            "text/plain": [
              "'Welcome to the Real World'"
            ],
            "application/vnd.google.colaboratory.intrinsic+json": {
              "type": "string"
            }
          },
          "metadata": {},
          "execution_count": 26
        }
      ],
      "source": [
        "result[0]['m.tagline']"
      ]
    },
    {
      "cell_type": "code",
      "execution_count": 27,
      "id": "93c3fe17-7310-4e11-84c3-4955c8ed8f1a",
      "metadata": {
        "height": 30,
        "colab": {
          "base_uri": "https://localhost:8080/"
        },
        "id": "93c3fe17-7310-4e11-84c3-4955c8ed8f1a",
        "outputId": "e6a8bb51-4a82-4ed1-c893-2356e25f33b2"
      },
      "outputs": [
        {
          "output_type": "execute_result",
          "data": {
            "text/plain": [
              "[0.017444109544157982,\n",
              " -0.005461932625621557,\n",
              " -0.0019986676052212715,\n",
              " -0.025609157979488373,\n",
              " -0.014403513632714748,\n",
              " 0.016723278909921646,\n",
              " -0.017064034938812256,\n",
              " 0.0005156398983672261,\n",
              " -0.025215977802872658,\n",
              " -0.02954096347093582]"
            ]
          },
          "metadata": {},
          "execution_count": 27
        }
      ],
      "source": [
        "result[0]['m.taglineEmbedding'][:10]"
      ]
    },
    {
      "cell_type": "code",
      "execution_count": 28,
      "id": "221af96b-63ce-4a95-8d23-47f9aa8c3a4e",
      "metadata": {
        "height": 30,
        "colab": {
          "base_uri": "https://localhost:8080/"
        },
        "id": "221af96b-63ce-4a95-8d23-47f9aa8c3a4e",
        "outputId": "dbf2e5ff-cd33-4338-ac58-b3a4c2763db8"
      },
      "outputs": [
        {
          "output_type": "execute_result",
          "data": {
            "text/plain": [
              "1536"
            ]
          },
          "metadata": {},
          "execution_count": 28
        }
      ],
      "source": [
        "len(result[0]['m.taglineEmbedding'])"
      ]
    },
    {
      "cell_type": "markdown",
      "id": "790b238d-9189-4111-962b-1bf3dfcdad05",
      "metadata": {
        "id": "790b238d-9189-4111-962b-1bf3dfcdad05"
      },
      "source": [
        "### Similarity search\n",
        "- Calculate embedding for question\n",
        "- Identify matching movies based on similarity of question and `taglineEmbedding` vectors"
      ]
    },
    {
      "cell_type": "code",
      "execution_count": 29,
      "id": "5648d30a-ab89-4fa1-ad61-35bbb43ef102",
      "metadata": {
        "height": 30,
        "id": "5648d30a-ab89-4fa1-ad61-35bbb43ef102"
      },
      "outputs": [],
      "source": [
        "question = \"What movies are about love?\""
      ]
    },
    {
      "cell_type": "code",
      "source": [
        "kg.query(\"\"\"\n",
        "    WITH genai.vector.encode(\n",
        "        $question,\n",
        "        \"OpenAI\",\n",
        "        {\n",
        "          token: $openAiApiKey,\n",
        "          endpoint: $openAiEndpoint\n",
        "        }) AS question_embedding\n",
        "    CALL db.index.vector.queryNodes(\n",
        "        'movie_tagline_embeddings',\n",
        "        $top_k,\n",
        "        question_embedding\n",
        "        ) YIELD node AS movie, score\n",
        "    RETURN movie.title, movie.tagline, score\n",
        "    \"\"\",\n",
        "    params={\"openAiApiKey\":OPENAI_API_KEY,\n",
        "            \"openAiEndpoint\": OPENAI_ENDPOINT,\n",
        "            \"question\": question,\n",
        "            \"top_k\": 5\n",
        "            })"
      ],
      "metadata": {
        "colab": {
          "base_uri": "https://localhost:8080/"
        },
        "id": "RnT0oCGoIbeW",
        "outputId": "5a2c62ee-4ad8-44e4-9018-efa9aa42ffbb"
      },
      "id": "RnT0oCGoIbeW",
      "execution_count": 42,
      "outputs": [
        {
          "output_type": "execute_result",
          "data": {
            "text/plain": [
              "[{'movie.title': 'RescueDawn',\n",
              "  'movie.tagline': \"Based on the extraordinary true story of one man's fight for freedom\",\n",
              "  'score': 0.8997488021850586},\n",
              " {'movie.title': 'Cast Away',\n",
              "  'movie.tagline': 'At the edge of the world, his journey begins.',\n",
              "  'score': 0.8985832929611206},\n",
              " {'movie.title': 'Ninja Assassin',\n",
              "  'movie.tagline': 'Prepare to enter a secret world of assassins',\n",
              "  'score': 0.8880105018615723},\n",
              " {'movie.title': 'Joe Versus the Volcano',\n",
              "  'movie.tagline': 'A story of love, lava and burning desire.',\n",
              "  'score': 0.8869996070861816},\n",
              " {'movie.title': 'As Good as It Gets',\n",
              "  'movie.tagline': 'A comedy from the heart that goes for the throat.',\n",
              "  'score': 0.8855895400047302}]"
            ]
          },
          "metadata": {},
          "execution_count": 42
        }
      ]
    },
    {
      "cell_type": "markdown",
      "id": "0d3c6eaa-aaea-4a03-b9f8-3c0ead98e83b",
      "metadata": {
        "id": "0d3c6eaa-aaea-4a03-b9f8-3c0ead98e83b"
      },
      "source": [
        "### Try for yourself: ask you own question!\n",
        "- Change the question below and run the graph query to find different movies"
      ]
    },
    {
      "cell_type": "code",
      "execution_count": 43,
      "id": "21b08047-0086-4291-8d62-fb646de330fa",
      "metadata": {
        "height": 30,
        "id": "21b08047-0086-4291-8d62-fb646de330fa"
      },
      "outputs": [],
      "source": [
        "question = \"What movies are about horror?\""
      ]
    },
    {
      "cell_type": "code",
      "execution_count": 44,
      "id": "7cdc7751-dddf-46b8-a74b-3d7c5544748f",
      "metadata": {
        "height": 285,
        "colab": {
          "base_uri": "https://localhost:8080/"
        },
        "id": "7cdc7751-dddf-46b8-a74b-3d7c5544748f",
        "outputId": "9b0ce9d7-f991-4149-c063-9e2da424d22c"
      },
      "outputs": [
        {
          "output_type": "execute_result",
          "data": {
            "text/plain": [
              "[{'movie.title': 'Twister',\n",
              "  'movie.tagline': \"Don't Breathe. Don't Look Back.\",\n",
              "  'score': 0.8952538967132568},\n",
              " {'movie.title': 'As Good as It Gets',\n",
              "  'movie.tagline': 'A comedy from the heart that goes for the throat.',\n",
              "  'score': 0.890769898891449},\n",
              " {'movie.title': \"The Devil's Advocate\",\n",
              "  'movie.tagline': 'Evil has its winning ways',\n",
              "  'score': 0.8824365735054016},\n",
              " {'movie.title': 'Ninja Assassin',\n",
              "  'movie.tagline': 'Prepare to enter a secret world of assassins',\n",
              "  'score': 0.8816023468971252},\n",
              " {'movie.title': 'Joe Versus the Volcano',\n",
              "  'movie.tagline': 'A story of love, lava and burning desire.',\n",
              "  'score': 0.8787840604782104}]"
            ]
          },
          "metadata": {},
          "execution_count": 44
        }
      ],
      "source": [
        "kg.query(\"\"\"\n",
        "    WITH genai.vector.encode(\n",
        "        $question,\n",
        "        \"OpenAI\",\n",
        "        {\n",
        "          token: $openAiApiKey,\n",
        "          endpoint: $openAiEndpoint\n",
        "        }) AS question_embedding\n",
        "    CALL db.index.vector.queryNodes(\n",
        "        'movie_tagline_embeddings',\n",
        "        $top_k,\n",
        "        question_embedding\n",
        "        ) YIELD node AS movie, score\n",
        "    RETURN movie.title, movie.tagline, score\n",
        "    \"\"\",\n",
        "    params={\"openAiApiKey\":OPENAI_API_KEY,\n",
        "            \"openAiEndpoint\": OPENAI_ENDPOINT,\n",
        "            \"question\": question,\n",
        "            \"top_k\": 5\n",
        "            })"
      ]
    }
  ],
  "metadata": {
    "kernelspec": {
      "display_name": "Python 3 (ipykernel)",
      "language": "python",
      "name": "python3"
    },
    "language_info": {
      "codemirror_mode": {
        "name": "ipython",
        "version": 3
      },
      "file_extension": ".py",
      "mimetype": "text/x-python",
      "name": "python",
      "nbconvert_exporter": "python",
      "pygments_lexer": "ipython3",
      "version": "3.11.8"
    },
    "colab": {
      "provenance": [],
      "include_colab_link": true
    }
  },
  "nbformat": 4,
  "nbformat_minor": 5
}